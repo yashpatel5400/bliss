{
 "cells": [
  {
   "cell_type": "code",
   "execution_count": 1,
   "metadata": {},
   "outputs": [],
   "source": [
    "# standard python imports\n",
    "import copy\n",
    "import numpy as np\n",
    "import os\n",
    "import scipy\n",
    "import astropy.io.fits as pyfits\n",
    "import scipy.ndimage\n",
    "import matplotlib.pyplot as plt\n",
    "import imageio\n",
    "from mpl_toolkits.axes_grid1 import make_axes_locatable\n",
    "%matplotlib inline\n",
    "\n",
    "# make sure lenstronomy is installed, otherwise install the latest pip version\n",
    "try:\n",
    "    import lenstronomy\n",
    "except:\n",
    "    !pip install lenstronomy\n",
    "\n",
    "# lenstronomy utility functions\n",
    "import lenstronomy.Util.util as util\n",
    "import lenstronomy.Util.image_util as image_util\n",
    "\n",
    "# lenstronomy imports\n",
    "from lenstronomy.LensModel.lens_model import LensModel\n",
    "from lenstronomy.LensModel.Solver.lens_equation_solver import LensEquationSolver\n",
    "from lenstronomy.LightModel.light_model import LightModel\n",
    "from lenstronomy.PointSource.point_source import PointSource\n",
    "from lenstronomy.ImSim.image_model import ImageModel\n",
    "import lenstronomy.Util.param_util as param_util\n",
    "import lenstronomy.Util.simulation_util as sim_util\n",
    "import lenstronomy.Util.image_util as image_util\n",
    "from lenstronomy.Util import kernel_util\n",
    "import lenstronomy.Util.util as util\n",
    "from lenstronomy.Data.imaging_data import ImageData\n",
    "from lenstronomy.Data.psf import PSF\n",
    "from lenstronomy.ImSim.image_model import ImageModel\n",
    "from lenstronomy.LightModel.Profiles.shapelets import ShapeletSet\n",
    "from lenstronomy.LightModel.Profiles.shapelets_polar import ShapeletSetPolar\n",
    "from lenstronomy.ImSim.image_linear_solve import ImageLinearFit"
   ]
  },
  {
   "cell_type": "code",
   "execution_count": 11,
   "metadata": {},
   "outputs": [],
   "source": [
    "# define data specifics\n",
    "background_rms = .2  #  background noise per pixel\n",
    "exp_time = 100.  #  exposure time (arbitrary units, flux per pixel is in units #photons/exp_time unit)\n",
    "numPix = 64  #  cutout pixel size\n",
    "deltaPix = 0.05  #  pixel size in arcsec (area per pixel = deltaPix**2)\n",
    "factor = 5\n",
    "subgrid_res = factor  # we set the subgrid resolution to the high resolution image that we will show, so the same numerics will be applied.\n",
    "fwhm = 0.1 # full width half max of PSF\n",
    "psf_type = 'GAUSSIAN'  # 'gaussian', 'pixel', 'NONE'\n",
    "\n",
    "# define lens model\n",
    "lens_model_list = ['SIE']\n",
    "kwargs_spemd = {\"theta_E\": 10., \"center_x\": 0, \"center_y\": 0, \"e1\": 0, \"e2\": 0}\n",
    "kwargs_lens = [kwargs_spemd]\n",
    "\n",
    "# define center of the source (effectively the center of the Shapelet basis)\n",
    "source_x = 0.15\n",
    "source_y = 0.1\n",
    "\n",
    "# Sersic parameters in the initial simulation\n",
    "phi_G, q = 0.5, 0.8\n",
    "e1, e2 = param_util.phi_q2_ellipticity(phi_G, q)\n",
    "kwargs_sersic_source = {'amp': 4000, 'R_sersic': 0.1, 'n_sersic': 1, 'e1': e1, 'e2': e2, 'center_x': source_x, 'center_y': source_y}\n",
    "source_model_list = ['SERSIC_ELLIPSE']\n",
    "kwargs_source = [kwargs_sersic_source]\n",
    "\n",
    "k_main_deflector_light = True\n",
    "if k_main_deflector_light:\n",
    "    lens_x = 0.0\n",
    "    lens_y = 0.0\n",
    "\n",
    "    phi_G, q = 0.9, 0.9\n",
    "    e1, e2 = param_util.phi_q2_ellipticity(phi_G, q)\n",
    "    kwargs_sersic_lens = {'amp': 8000, 'R_sersic': 0.2, 'n_sersic': 2., 'e1': e1, 'e2': e2, 'center_x': lens_x, 'center_y': lens_y}\n",
    "    lens_light_model_list = ['SERSIC_ELLIPSE']\n",
    "    kwargs_lens_light = [kwargs_sersic_lens]\n",
    "    lens_light_model_class = LightModel(light_model_list=lens_light_model_list)\n",
    "else:\n",
    "    lens_light_model_list = ['NONE']\n",
    "    kwargs_lens_light = [{}]\n",
    "    lens_light_model_class = None\n",
    "\n",
    "main_deflector_kwargs_lens = copy.deepcopy(kwargs_lens)\n",
    "mainDeflectorLensModel = LensModel(lens_model_list)\n",
    "\n",
    "k_add_subhalos = False\n",
    "if k_add_subhalos:\n",
    "    subhalo_type = 'TNFW'  # We chose spherical NFW profiles, feel free to chose whatever you want.\n",
    "\n",
    "    # as an example, we render some sub-halos with a very simple distribution to be added on the main lens\n",
    "    num_subhalo = 20  # number of subhalos to be rendered\n",
    "    # the parameterization of the NFW profiles are:\n",
    "    # - Rs (radius of the scale parameter Rs in units of angles)\n",
    "    # - theta_Rs (radial deflection angle at Rs)\n",
    "    # - center_x, center_y, (position of the centre of the profile in angular units)\n",
    "\n",
    "    Rs_mean = 0.1\n",
    "    Rs_sigma = 0.1  # dex scatter\n",
    "    theta_Rs_mean = 0.05\n",
    "    theta_Rs_sigma = 0.1 # dex scatter\n",
    "    r_min, r_max = -2, 2\n",
    "\n",
    "    Rs_list = 10**(np.log10(Rs_mean) + np.random.normal(loc=0, scale=Rs_sigma, size=num_subhalo))\n",
    "    theta_Rs_list = 10**(np.log10(theta_Rs_mean) + np.random.normal(loc=0, scale=theta_Rs_sigma, size=num_subhalo))\n",
    "    center_x_list = np.random.uniform(low=r_min, high=r_max,size=num_subhalo)\n",
    "    center_y_list = np.random.uniform(low=r_min, high=r_max,size=num_subhalo)\n",
    "    for i in range(num_subhalo):\n",
    "        lens_model_list.append(subhalo_type)\n",
    "        kwargs_lens.append({'alpha_Rs': theta_Rs_list[i], 'Rs': Rs_list[i],\n",
    "                                'center_x': center_x_list[i], 'center_y': center_y_list[i],\n",
    "                                'r_trunc': 5*Rs_list[i]\n",
    "                                })\n",
    "\n",
    "lensModel = LensModel(lens_model_list)\n",
    "sourceLightModel = LightModel(source_model_list)\n",
    "\n",
    "subhalolensModel = LensModel(lens_model_list[2:])\n",
    "subhalo_kwargs_lens = copy.deepcopy(kwargs_lens[2:])\n",
    "\n",
    "# final data configuration\n",
    "shapeletSet = ShapeletSet()\n",
    "kwargs_data_real = sim_util.data_configure_simple(numPix, deltaPix, exp_time, background_rms)\n",
    "data_real = ImageData(**kwargs_data_real)\n",
    "\n",
    "psf = PSF(psf_type=psf_type, fwhm=fwhm, truncation=5)\n",
    "psf_no = PSF(psf_type='NONE')"
   ]
  },
  {
   "cell_type": "code",
   "execution_count": 12,
   "metadata": {},
   "outputs": [],
   "source": [
    "# the numerics applied on the final data output to perform the identical computation as the high resolution gird\n",
    "# kwargs_numerics = {'supersampling_factor': subgrid_res, 'supersampling_convolution': True}\n",
    "kwargs_numerics = {'supersampling_factor': 1, 'supersampling_convolution': False}\n",
    "\n",
    "# and here we perform the computations\n",
    "# unlensed_source_nonoise_model = ImageModel(data_class=data_real, psf_class=psf_no, kwargs_numerics=kwargs_numerics, lens_model_class=None, source_model_class=sourceLightModel, lens_light_model_class=None)\n",
    "# unlensed_source_nonoise = unlensed_source_nonoise_model.image(None, kwargs_source, kwargs_lens_light=None, kwargs_ps=None)\n",
    "\n",
    "# unlensed_full_nonoise_model = ImageModel(data_class=data_real, psf_class=psf_no, kwargs_numerics=kwargs_numerics, source_model_class=sourceLightModel, lens_light_model_class=lens_light_model_class)\n",
    "# unlensed_full_nonoise = unlensed_full_nonoise_model.image(kwargs_lens=None, kwargs_source=kwargs_source, kwargs_lens_light=kwargs_lens_light, kwargs_ps=None)\n",
    "\n",
    "# maindeflector_full_nonoise_model = ImageModel(data_class=data_real, psf_class=psf_no, kwargs_numerics=kwargs_numerics, lens_model_class=mainDeflectorLensModel, source_model_class=sourceLightModel, lens_light_model_class=lens_light_model_class)\n",
    "# maindeflector_full_nonoise = maindeflector_full_nonoise_model.image(main_deflector_kwargs_lens, kwargs_source, kwargs_lens_light=kwargs_lens_light, kwargs_ps=None)\n",
    "\n",
    "# lensed_full_nonoise_model = ImageModel(data_class=data_real, psf_class=psf_no, kwargs_numerics=kwargs_numerics, lens_model_class=lensModel, source_model_class=sourceLightModel, lens_light_model_class=lens_light_model_class)\n",
    "# lensed_full_nonoise = lensed_full_nonoise_model.image(kwargs_lens, kwargs_source, kwargs_lens_light=kwargs_lens_light, kwargs_ps=None)\n",
    "\n",
    "lensed_full_psf_model = ImageModel(data_class=data_real, psf_class=psf, kwargs_numerics=kwargs_numerics, lens_model_class=lensModel, source_model_class=sourceLightModel, lens_light_model_class=lens_light_model_class)\n",
    "lensed_full_psf = lensed_full_psf_model.image(kwargs_lens, kwargs_source, kwargs_lens_light=kwargs_lens_light, kwargs_ps=None)\n",
    "\n",
    "poisson = image_util.add_poisson(lensed_full_psf, exp_time=exp_time)\n",
    "bkg = image_util.add_background(lensed_full_psf, sigma_bkd=background_rms)\n",
    "lensed_full_noised = lensed_full_psf + poisson + bkg\n",
    "\n",
    "# ----------------------------------------------\n",
    "# data_class_sequential = copy.deepcopy(data_real)\n",
    "# subhalolensed_model = ImageModel(data_class=data_class_sequential, psf_class=psf_no, kwargs_numerics=kwargs_numerics, lens_model_class=subhalolensModel, source_model_class=sourceLightModel, lens_light_model_class=None)\n",
    "# subhalolensed = subhalolensed_model.image(subhalo_kwargs_lens, kwargs_source, kwargs_lens_light=None, kwargs_ps=None)\n",
    "\n",
    "# data_class_sequential.update_data(subhalolensed)\n",
    "# maindeflector_sequential_full_nonoise_model = ImageModel(data_class=data_class_sequential, psf_class=psf_no, kwargs_numerics=kwargs_numerics, lens_model_class=mainDeflectorLensModel, source_model_class=sourceLightModel, lens_light_model_class=lens_light_model_class)\n",
    "# maindeflector_sequential_full_nonoise = maindeflector_sequential_full_nonoise_model.image(main_deflector_kwargs_lens, kwargs_source, kwargs_lens_light=kwargs_lens_light, kwargs_ps=None)"
   ]
  },
  {
   "cell_type": "code",
   "execution_count": 13,
   "metadata": {},
   "outputs": [
    {
     "name": "stderr",
     "output_type": "stream",
     "text": [
      "/tmp/ipykernel_2898882/1160801416.py:11: MatplotlibDeprecationWarning: You are modifying the state of a globally registered colormap. This has been deprecated since 3.3 and in 3.6, you will not be able to modify a registered colormap in-place. To remove this warning, you can make a copy of the colormap first. cmap = mpl.cm.get_cmap(\"gray\").copy()\n",
      "  cmap.set_bad(color='k', alpha=1.)\n",
      "/tmp/ipykernel_2898882/1160801416.py:12: MatplotlibDeprecationWarning: You are modifying the state of a globally registered colormap. This has been deprecated since 3.3 and in 3.6, you will not be able to modify a registered colormap in-place. To remove this warning, you can make a copy of the colormap first. cmap = mpl.cm.get_cmap(\"gray\").copy()\n",
      "  cmap.set_under('k')\n"
     ]
    },
    {
     "ename": "NameError",
     "evalue": "name 'unlensed_source_nonoise' is not defined",
     "output_type": "error",
     "traceback": [
      "\u001b[0;31m---------------------------------------------------------------------------\u001b[0m",
      "\u001b[0;31mNameError\u001b[0m                                 Traceback (most recent call last)",
      "\u001b[1;32m/home/yppatel/bliss/case_studies/substructure/reconstruction.ipynb Cell 4\u001b[0m in \u001b[0;36m<cell line: 18>\u001b[0;34m()\u001b[0m\n\u001b[1;32m     <a href='vscode-notebook-cell://ssh-remote%2Bdeeplearning-01.stat.lsa.umich.edu/home/yppatel/bliss/case_studies/substructure/reconstruction.ipynb#W3sdnNjb2RlLXJlbW90ZQ%3D%3D?line=13'>14</a>\u001b[0m v_min \u001b[39m=\u001b[39m \u001b[39m0\u001b[39m\n\u001b[1;32m     <a href='vscode-notebook-cell://ssh-remote%2Bdeeplearning-01.stat.lsa.umich.edu/home/yppatel/bliss/case_studies/substructure/reconstruction.ipynb#W3sdnNjb2RlLXJlbW90ZQ%3D%3D?line=14'>15</a>\u001b[0m v_max \u001b[39m=\u001b[39m \u001b[39m2\u001b[39m\n\u001b[1;32m     <a href='vscode-notebook-cell://ssh-remote%2Bdeeplearning-01.stat.lsa.umich.edu/home/yppatel/bliss/case_studies/substructure/reconstruction.ipynb#W3sdnNjb2RlLXJlbW90ZQ%3D%3D?line=16'>17</a>\u001b[0m label_to_image \u001b[39m=\u001b[39m {\n\u001b[0;32m---> <a href='vscode-notebook-cell://ssh-remote%2Bdeeplearning-01.stat.lsa.umich.edu/home/yppatel/bliss/case_studies/substructure/reconstruction.ipynb#W3sdnNjb2RlLXJlbW90ZQ%3D%3D?line=17'>18</a>\u001b[0m     \u001b[39m\"\u001b[39m\u001b[39msource\u001b[39m\u001b[39m\"\u001b[39m: unlensed_source_nonoise,\n\u001b[1;32m     <a href='vscode-notebook-cell://ssh-remote%2Bdeeplearning-01.stat.lsa.umich.edu/home/yppatel/bliss/case_studies/substructure/reconstruction.ipynb#W3sdnNjb2RlLXJlbW90ZQ%3D%3D?line=18'>19</a>\u001b[0m     \u001b[39m\"\u001b[39m\u001b[39m+ lens light\u001b[39m\u001b[39m\"\u001b[39m: unlensed_full_nonoise,\n\u001b[1;32m     <a href='vscode-notebook-cell://ssh-remote%2Bdeeplearning-01.stat.lsa.umich.edu/home/yppatel/bliss/case_studies/substructure/reconstruction.ipynb#W3sdnNjb2RlLXJlbW90ZQ%3D%3D?line=19'>20</a>\u001b[0m     \u001b[39m\"\u001b[39m\u001b[39m + main lens\u001b[39m\u001b[39m\"\u001b[39m: maindeflector_full_nonoise,\n\u001b[1;32m     <a href='vscode-notebook-cell://ssh-remote%2Bdeeplearning-01.stat.lsa.umich.edu/home/yppatel/bliss/case_studies/substructure/reconstruction.ipynb#W3sdnNjb2RlLXJlbW90ZQ%3D%3D?line=20'>21</a>\u001b[0m     \u001b[39m\"\u001b[39m\u001b[39m+ subhalos\u001b[39m\u001b[39m\"\u001b[39m: lensed_full_nonoise,\n\u001b[1;32m     <a href='vscode-notebook-cell://ssh-remote%2Bdeeplearning-01.stat.lsa.umich.edu/home/yppatel/bliss/case_studies/substructure/reconstruction.ipynb#W3sdnNjb2RlLXJlbW90ZQ%3D%3D?line=21'>22</a>\u001b[0m     \u001b[39m\"\u001b[39m\u001b[39m+ PSF\u001b[39m\u001b[39m\"\u001b[39m: lensed_full_psf,\n\u001b[1;32m     <a href='vscode-notebook-cell://ssh-remote%2Bdeeplearning-01.stat.lsa.umich.edu/home/yppatel/bliss/case_studies/substructure/reconstruction.ipynb#W3sdnNjb2RlLXJlbW90ZQ%3D%3D?line=22'>23</a>\u001b[0m     \u001b[39m\"\u001b[39m\u001b[39m+ noise\u001b[39m\u001b[39m\"\u001b[39m: lensed_full_noised,\n\u001b[1;32m     <a href='vscode-notebook-cell://ssh-remote%2Bdeeplearning-01.stat.lsa.umich.edu/home/yppatel/bliss/case_studies/substructure/reconstruction.ipynb#W3sdnNjb2RlLXJlbW90ZQ%3D%3D?line=23'>24</a>\u001b[0m }\n\u001b[1;32m     <a href='vscode-notebook-cell://ssh-remote%2Bdeeplearning-01.stat.lsa.umich.edu/home/yppatel/bliss/case_studies/substructure/reconstruction.ipynb#W3sdnNjb2RlLXJlbW90ZQ%3D%3D?line=25'>26</a>\u001b[0m f, axes \u001b[39m=\u001b[39m plt\u001b[39m.\u001b[39msubplots(\u001b[39m1\u001b[39m, \u001b[39mlen\u001b[39m(label_to_image), figsize\u001b[39m=\u001b[39m(\u001b[39m20\u001b[39m, \u001b[39m4\u001b[39m), sharex\u001b[39m=\u001b[39m\u001b[39mFalse\u001b[39;00m, sharey\u001b[39m=\u001b[39m\u001b[39mFalse\u001b[39;00m)\n\u001b[1;32m     <a href='vscode-notebook-cell://ssh-remote%2Bdeeplearning-01.stat.lsa.umich.edu/home/yppatel/bliss/case_studies/substructure/reconstruction.ipynb#W3sdnNjb2RlLXJlbW90ZQ%3D%3D?line=26'>27</a>\u001b[0m \u001b[39mfor\u001b[39;00m i, label \u001b[39min\u001b[39;00m \u001b[39menumerate\u001b[39m(label_to_image):\n",
      "\u001b[0;31mNameError\u001b[0m: name 'unlensed_source_nonoise' is not defined"
     ]
    }
   ],
   "source": [
    "def visualize_lens_potential(lens_model, kwargs_lens):\n",
    "    x_grid, y_grid = util.make_grid(numPix=100, deltapix=0.05)\n",
    "    kappa = lens_model.kappa(x_grid, y_grid, kwargs_lens)\n",
    "    lens_potential = util.array2image(np.log10(kappa))\n",
    "\n",
    "    plt.imshow(np.log(lens_potential + 2.5), origin='lower', extent=[0, 1, 0, 1])\n",
    "    plt.show()\n",
    "\n",
    "cmap_string = 'gray'\n",
    "cmap = plt.get_cmap(cmap_string)\n",
    "cmap.set_bad(color='k', alpha=1.)\n",
    "cmap.set_under('k')\n",
    "\n",
    "v_min = 0\n",
    "v_max = 2\n",
    "\n",
    "label_to_image = {\n",
    "    \"source\": unlensed_source_nonoise,\n",
    "    \"+ lens light\": unlensed_full_nonoise,\n",
    "    \" + main lens\": maindeflector_full_nonoise,\n",
    "    \"+ subhalos\": lensed_full_nonoise,\n",
    "    \"+ PSF\": lensed_full_psf,\n",
    "    \"+ noise\": lensed_full_noised,\n",
    "}\n",
    "\n",
    "f, axes = plt.subplots(1, len(label_to_image), figsize=(20, 4), sharex=False, sharey=False)\n",
    "for i, label in enumerate(label_to_image):\n",
    "    ax = axes[i]\n",
    "    im = ax.matshow((label_to_image[label]), origin='lower', extent=[0, 1, 0, 1])\n",
    "    ax.get_xaxis().set_visible(False)\n",
    "    ax.get_yaxis().set_visible(False)\n",
    "    ax.autoscale(False)\n",
    "\n",
    "    ax = axes[i]\n",
    "    x_pos, y_pos = 0.05, 0.05\n",
    "    fontsize_description = 30\n",
    "    ax.text(x_pos, y_pos, label, color=\"w\", fontsize=fontsize_description)\n",
    "\n",
    "f.tight_layout()\n",
    "f.subplots_adjust(left=None, bottom=None, right=None, top=None, wspace=0., hspace=0.05)\n",
    "plt.show()\n",
    "\n",
    "visualize_lens_potential(lensModel, kwargs_lens)\n",
    "visualize_lens_potential(mainDeflectorLensModel, main_deflector_kwargs_lens)"
   ]
  },
  {
   "cell_type": "code",
   "execution_count": 14,
   "metadata": {},
   "outputs": [],
   "source": [
    "data_real.update_data(lensed_full_noised)\n",
    "shapelet_type = 'polar' # 'cartesian', 'polar', 'exponential'\n",
    "\n",
    "shapeletSet_reconstruct = ShapeletSetPolar(exponential=False)\n",
    "sourceLightModel_reconstruct = LightModel(['SHAPELETS_POLAR'])\n",
    "n_max_reconstruct = 20\n",
    "beta_reconstruct = 0.15\n",
    "\n",
    "kwargs_source = [{'n_max': n_max_reconstruct, 'center_x': source_x, 'center_y': source_y, 'beta': beta_reconstruct}]\n",
    "reconstruction_imageModel = ImageLinearFit(data_class=data_real, psf_class=psf, kwargs_numerics=kwargs_numerics, lens_model_class=mainDeflectorLensModel, source_model_class=sourceLightModel_reconstruct, lens_light_model_class=lens_light_model_class)\n",
    "wls_model, _, cov_param, param = reconstruction_imageModel.image_linear_solve(main_deflector_kwargs_lens, kwargs_source, kwargs_lens_light=kwargs_lens_light, kwargs_ps=None, inv_bool=False)\n",
    "\n",
    "lensed_reconstructed = wls_model\n",
    "x_coords, y_coords = data_real.pixel_coordinates\n",
    "source_reconstructed = shapeletSet_reconstruct.function(util.image2array(x_coords), util.image2array(y_coords), param, n_max_reconstruct, beta_reconstruct, center_x=source_x, center_y=source_y)\n",
    "source_reconstructed_2d = util.array2image(source_reconstructed) * (deltaPix/factor)**2  # map 1d data vector in 2d image\n",
    "reduced_residuals = reconstruction_imageModel.reduced_residuals(wls_model)"
   ]
  },
  {
   "cell_type": "code",
   "execution_count": 15,
   "metadata": {},
   "outputs": [
    {
     "data": {
      "image/png": "[encoded data removed]",
      "text/plain": [
       "<Figure size 864x576 with 3 Axes>"
      ]
     },
     "metadata": {
      "needs_background": "light"
     },
     "output_type": "display_data"
    },
    {
     "ename": "NameError",
     "evalue": "name 'unlensed_source_nonoise' is not defined",
     "output_type": "error",
     "traceback": [
      "\u001b[0;31m---------------------------------------------------------------------------\u001b[0m",
      "\u001b[0;31mNameError\u001b[0m                                 Traceback (most recent call last)",
      "\u001b[1;32m/home/yppatel/bliss/case_studies/substructure/reconstruction.ipynb Cell 6\u001b[0m in \u001b[0;36m<cell line: 26>\u001b[0;34m()\u001b[0m\n\u001b[1;32m     <a href='vscode-notebook-cell://ssh-remote%2Bdeeplearning-01.stat.lsa.umich.edu/home/yppatel/bliss/case_studies/substructure/reconstruction.ipynb#W5sdnNjb2RlLXJlbW90ZQ%3D%3D?line=22'>23</a>\u001b[0m     ax\u001b[39m.\u001b[39mautoscale(\u001b[39mFalse\u001b[39;00m)\n\u001b[1;32m     <a href='vscode-notebook-cell://ssh-remote%2Bdeeplearning-01.stat.lsa.umich.edu/home/yppatel/bliss/case_studies/substructure/reconstruction.ipynb#W5sdnNjb2RlLXJlbW90ZQ%3D%3D?line=23'>24</a>\u001b[0m plt\u001b[39m.\u001b[39mshow()\n\u001b[0;32m---> <a href='vscode-notebook-cell://ssh-remote%2Bdeeplearning-01.stat.lsa.umich.edu/home/yppatel/bliss/case_studies/substructure/reconstruction.ipynb#W5sdnNjb2RlLXJlbW90ZQ%3D%3D?line=25'>26</a>\u001b[0m \u001b[39mprint\u001b[39m(\u001b[39mf\u001b[39m\u001b[39m\"\u001b[39m\u001b[39mAverage image value: \u001b[39m\u001b[39m{\u001b[39;00mnp\u001b[39m.\u001b[39mmean(unlensed_source_nonoise[unlensed_source_nonoise \u001b[39m>\u001b[39m \u001b[39m0.01\u001b[39m])\u001b[39m}\u001b[39;00m\u001b[39m\"\u001b[39m)\n\u001b[1;32m     <a href='vscode-notebook-cell://ssh-remote%2Bdeeplearning-01.stat.lsa.umich.edu/home/yppatel/bliss/case_studies/substructure/reconstruction.ipynb#W5sdnNjb2RlLXJlbW90ZQ%3D%3D?line=26'>27</a>\u001b[0m \u001b[39mprint\u001b[39m(\u001b[39mf\u001b[39m\u001b[39m\"\u001b[39m\u001b[39mMax residual: \u001b[39m\u001b[39m{\u001b[39;00mnp\u001b[39m.\u001b[39mmax(source_reconstructed_2d \u001b[39m-\u001b[39m unlensed_source_nonoise)\u001b[39m}\u001b[39;00m\u001b[39m\"\u001b[39m)\n",
      "\u001b[0;31mNameError\u001b[0m: name 'unlensed_source_nonoise' is not defined"
     ]
    }
   ],
   "source": [
    "# given the solution of the linear inversion, we can also plot the coefficients in the source plane\n",
    "\n",
    "x_coords, y_coords = data_real.pixel_coordinates\n",
    "source_reconstructed = shapeletSet_reconstruct.function(util.image2array(x_coords), util.image2array(y_coords), param, n_max_reconstruct, beta_reconstruct, center_x=source_x, center_y=source_y)\n",
    "source_reconstructed_2d = util.array2image(source_reconstructed) * (deltaPix/factor)**2  # map 1d data vector in 2d image\n",
    "reduced_residuals = reconstruction_imageModel.reduced_residuals(wls_model)\n",
    "label_to_image = {\n",
    "    \"Input image\": lensed_full_noised,\n",
    "    \"Reconstructed image\": wls_model,\n",
    "    \"Image residuals\": reduced_residuals,\n",
    "    # \"Input source\": unlensed_source_nonoise,\n",
    "    # \"Reconstructed source\": source_reconstructed_2d,\n",
    "    # \"Source residuals\": source_reconstructed_2d - unlensed_source_nonoise,\n",
    "}\n",
    "\n",
    "f, axes = plt.subplots(1, 3, figsize=(12, 8), sharex=False, sharey=False)\n",
    "for i, label in enumerate(label_to_image):\n",
    "    ax = axes[i] #[i // 3, i - 3 * (i // 3)]\n",
    "    ax.matshow(label_to_image[label], origin='lower')\n",
    "    ax.set_title(label)\n",
    "    ax.get_xaxis().set_visible(False)\n",
    "    ax.get_yaxis().set_visible(False)\n",
    "    ax.autoscale(False)\n",
    "plt.show()\n",
    "\n",
    "print(f\"Average image value: {np.mean(unlensed_source_nonoise[unlensed_source_nonoise > 0.01])}\")\n",
    "print(f\"Max residual: {np.max(source_reconstructed_2d - unlensed_source_nonoise)}\")"
   ]
  },
  {
   "cell_type": "code",
   "execution_count": null,
   "metadata": {},
   "outputs": [
    {
     "data": {
      "text/plain": [
       "(64, 64)"
      ]
     },
     "execution_count": 12,
     "metadata": {},
     "output_type": "execute_result"
    }
   ],
   "source": [
    "lensed_full_noised.shape"
   ]
  },
  {
   "cell_type": "code",
   "execution_count": null,
   "metadata": {},
   "outputs": [],
   "source": []
  },
  {
   "cell_type": "code",
   "execution_count": null,
   "metadata": {},
   "outputs": [],
   "source": []
  },
  {
   "cell_type": "code",
   "execution_count": null,
   "metadata": {},
   "outputs": [],
   "source": []
  }
 ],
 "metadata": {
  "kernelspec": {
   "display_name": "Python 3.8.10 ('bliss-vKFXZHWe-py3.8')",
   "language": "python",
   "name": "python3"
  },
  "language_info": {
   "codemirror_mode": {
    "name": "ipython",
    "version": 3
   },
   "file_extension": ".py",
   "mimetype": "text/x-python",
   "name": "python",
   "nbconvert_exporter": "python",
   "pygments_lexer": "ipython3",
   "version": "3.8.10"
  },
  "vscode": {
   "interpreter": {
    "hash": "72adff0a5138394e7ab3380b7860edf983a5dd8cab864dd8cf44bf01f55aa221"
   }
  }
 },
 "nbformat": 4,
 "nbformat_minor": 1
}
