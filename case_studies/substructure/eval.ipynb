{
 "cells": [
  {
   "cell_type": "markdown",
   "id": "5cbed701",
   "metadata": {},
   "source": [
    "# Setup"
   ]
  },
  {
   "cell_type": "code",
   "execution_count": 1,
   "id": "74c00834",
   "metadata": {
    "ExecuteTime": {
     "end_time": "2022-06-02T20:07:21.214363Z",
     "start_time": "2022-06-02T20:07:21.184701Z"
    }
   },
   "outputs": [
    {
     "name": "stdout",
     "output_type": "stream",
     "text": [
      "Modules to reload:\n",
      "all-except-skipped\n",
      "\n",
      "Modules to skip:\n",
      "\n",
      "env: CUDA_VISIBLE_DEVICES=0\n",
      "env: BLISS_HOME=/home/yppatel/bliss\n"
     ]
    }
   ],
   "source": [
    "%load_ext autoreload\n",
    "%autoreload 2\n",
    "%aimport\n",
    "%env CUDA_VISIBLE_DEVICES=0\n",
    "%env BLISS_HOME=/home/yppatel/bliss"
   ]
  },
  {
   "cell_type": "code",
   "execution_count": 2,
   "id": "d79561f7",
   "metadata": {
    "ExecuteTime": {
     "end_time": "2022-06-02T20:08:44.966652Z",
     "start_time": "2022-06-02T20:08:44.922567Z"
    }
   },
   "outputs": [],
   "source": [
    "%matplotlib inline "
   ]
  },
  {
   "cell_type": "code",
   "execution_count": 3,
   "id": "1e614283",
   "metadata": {
    "ExecuteTime": {
     "end_time": "2022-06-02T20:07:24.129494Z",
     "start_time": "2022-06-02T20:07:21.902942Z"
    }
   },
   "outputs": [],
   "source": [
    "import matplotlib.pyplot as plt\n",
    "plt.style.use('ggplot')\n",
    "import torch\n",
    "\n",
    "from bliss.inference import SDSSFrame\n",
    "from bliss.datasets import sdss\n",
    "from bliss.inference import reconstruct_scene_at_coordinates\n",
    "from case_studies.substructure.plots.main import load_models\n",
    "\n",
    "\n",
    "from astropy.table import Table\n",
    "\n",
    "import plotly.express as px\n",
    "import plotly.graph_objects as go"
   ]
  },
  {
   "cell_type": "code",
   "execution_count": 4,
   "id": "d46ad2b5",
   "metadata": {
    "ExecuteTime": {
     "end_time": "2022-06-02T20:07:24.941389Z",
     "start_time": "2022-06-02T20:07:24.131613Z"
    }
   },
   "outputs": [
    {
     "name": "stdout",
     "output_type": "stream",
     "text": [
      "0\n"
     ]
    }
   ],
   "source": [
    "# check GPU is configured correctly\n",
    "device = torch.device('cuda:0')\n",
    "!echo $CUDA_VISIBLE_DEVICES"
   ]
  },
  {
   "cell_type": "markdown",
   "id": "5a761237",
   "metadata": {},
   "source": [
    "# Encoder blend images"
   ]
  },
  {
   "cell_type": "code",
   "execution_count": 5,
   "id": "4ff19040",
   "metadata": {
    "ExecuteTime": {
     "end_time": "2022-06-02T20:07:29.351432Z",
     "start_time": "2022-06-02T20:07:25.743698Z"
    }
   },
   "outputs": [],
   "source": [
    "# load models\n",
    "from hydra import compose, initialize\n",
    "from hydra.utils import instantiate\n",
    "from bliss.encoder import Encoder\n",
    "\n",
    "with initialize(config_path=\"config\"):\n",
    "    cfg = compose(\"config\", overrides=[])\n",
    "    \n",
    "    \n",
    "enc, dec = load_models(cfg, device)\n",
    "bp = enc.border_padding\n",
    "torch.cuda.empty_cache()"
   ]
  },
  {
   "cell_type": "code",
   "execution_count": 6,
   "id": "4b676f7c",
   "metadata": {
    "ExecuteTime": {
     "end_time": "2022-06-02T20:07:31.302569Z",
     "start_time": "2022-06-02T20:07:29.386570Z"
    }
   },
   "outputs": [],
   "source": [
    "dataset = instantiate(\n",
    "    cfg.datasets.simulated,\n",
    "    generate_device=\"cuda:0\",\n",
    ")"
   ]
  },
  {
   "cell_type": "code",
   "execution_count": 7,
   "id": "487f5e5d",
   "metadata": {},
   "outputs": [],
   "source": [
    "sample_batch_size = 16\n",
    "tile_catalog = dataset.sample_prior(sample_batch_size, cfg.datasets.simulated.n_tiles_h, cfg.datasets.simulated.n_tiles_w)\n",
    "tile_catalog.set_all_fluxes_and_mags(dataset.image_decoder)"
   ]
  },
  {
   "cell_type": "code",
   "execution_count": 8,
   "id": "e2912d1c",
   "metadata": {},
   "outputs": [],
   "source": [
    "images, backgrounds = dataset.simulate_image_from_catalog(tile_catalog)\n",
    "plt.rcParams[\"axes.grid\"] = False\n",
    "\n",
    "fig, axs = plt.subplots(sample_batch_size // 4, 4, figsize=(6, 6), dpi=120)\n",
    "plt.subplots_adjust(wspace=0, hspace=0)\n",
    "\n",
    "for i in range(sample_batch_size):\n",
    "    axs[i // 4, i % 4].imshow(images[i,0,:,:].cpu())\n",
    "    axs[i // 4, i % 4].set_xticklabels([])\n",
    "    axs[i // 4, i % 4].set_yticklabels([])\n",
    "    axs[i // 4, i % 4].tick_params(left = False, bottom = False)"
   ]
  },
  {
   "cell_type": "code",
   "execution_count": 9,
   "id": "6b4a5771",
   "metadata": {},
   "outputs": [
    {
     "data": {
      "text/plain": [
       "<All keys matched successfully>"
      ]
     },
     "execution_count": 9,
     "metadata": {},
     "output_type": "execute_result"
    }
   ],
   "source": [
    "galaxy = instantiate(cfg.models.galaxy_encoder).to(device).eval()\n",
    "galaxy.load_state_dict(torch.load(cfg.plots.galaxy_checkpoint, map_location=galaxy.device))\n",
    "\n",
    "lens = instantiate(cfg.models.lens_encoder).to(device).eval()\n",
    "lens.load_state_dict(torch.load(cfg.plots.lens_checkpoint, map_location=lens.device))"
   ]
  },
  {
   "cell_type": "code",
   "execution_count": 61,
   "id": "42f1a690",
   "metadata": {},
   "outputs": [
    {
     "name": "stdout",
     "output_type": "stream",
     "text": [
      "tensor([[[[61.1710,  0.4832,  3.2744,  0.5357,  1.6356,  0.4947,  1.0158]]]],\n",
      "       device='cuda:0', grad_fn=<ToCopyBackward0>)\n",
      "tensor([[1.3161e+03, 3.0348e-01, 1.6234e+00, 9.8100e-01, 1.1391e+00, 3.6389e-01,\n",
      "         1.3720e+00]])\n",
      "----------------\n",
      "tensor([[[[2.1078e+05, 5.1348e-01, 4.4167e+00, 3.0619e-01, 4.6625e+00,\n",
      "           5.3374e-01, 1.3043e+00]]]], device='cuda:0',\n",
      "       grad_fn=<ToCopyBackward0>)\n",
      "tensor([[5.6753e+03, 8.8484e-01, 6.1518e+00, 6.5724e-01, 9.1255e-01, 4.8500e-01,\n",
      "         1.4261e+00]])\n",
      "----------------\n",
      "tensor([[[[60.8997,  0.4834,  3.2722,  0.5360,  1.6365,  0.4942,  1.0156]]]],\n",
      "       device='cuda:0', grad_fn=<ToCopyBackward0>)\n",
      "tensor([[6.7253e+02, 8.7892e-01, 2.3972e+00, 7.5392e-01, 1.1038e+00, 6.2036e-01,\n",
      "         2.0741e+00]])\n",
      "----------------\n",
      "tensor([[[[90.0453,  0.4896,  3.7198,  0.4668,  1.3011,  0.4431,  0.9129]]]],\n",
      "       device='cuda:0', grad_fn=<ToCopyBackward0>)\n",
      "tensor([[6.4070e+02, 2.1486e-01, 5.5738e+00, 7.8469e-02, 1.3949e+00, 8.0318e-01,\n",
      "         4.3356e-01]])\n",
      "----------------\n",
      "tensor([[[[61.9912,  0.4828,  3.2700,  0.5365,  1.6191,  0.4940,  1.0057]]]],\n",
      "       device='cuda:0', grad_fn=<ToCopyBackward0>)\n",
      "tensor([[3.3362e+03, 4.0652e-01, 1.5800e+00, 2.9248e-01, 9.7885e-01, 5.8972e-01,\n",
      "         4.1887e-01]])\n",
      "----------------\n",
      "tensor([[[[61.1940,  0.4831,  3.2742,  0.5355,  1.6356,  0.4945,  1.0166]]]],\n",
      "       device='cuda:0', grad_fn=<ToCopyBackward0>)\n",
      "tensor([[8.4777e+02, 4.4644e-02, 5.8278e+00, 8.6484e-01, 2.8039e+00, 7.0128e-01,\n",
      "         1.0233e+00]])\n",
      "----------------\n",
      "tensor([[[[61.0199,  0.4836,  3.2727,  0.5358,  1.6369,  0.4946,  1.0157]]]],\n",
      "       device='cuda:0', grad_fn=<ToCopyBackward0>)\n",
      "tensor([[7.0957e+02, 6.3365e-01, 1.2101e+00, 4.1939e-01, 8.3722e-01, 9.6036e-02,\n",
      "         5.0537e-01]])\n",
      "----------------\n",
      "tensor([[[[61.0288,  0.4833,  3.2741,  0.5358,  1.6358,  0.4947,  1.0158]]]],\n",
      "       device='cuda:0', grad_fn=<ToCopyBackward0>)\n",
      "tensor([[1.3196e+03, 7.4151e-01, 6.1155e+00, 5.0575e-01, 1.2730e+00, 9.8670e-01,\n",
      "         4.1868e-01]])\n",
      "----------------\n",
      "tensor([[[[61.0578,  0.4832,  3.2735,  0.5357,  1.6358,  0.4945,  1.0158]]]],\n",
      "       device='cuda:0', grad_fn=<ToCopyBackward0>)\n",
      "tensor([[1.8871e+03, 5.4627e-01, 5.7823e+00, 7.0543e-01, 1.8935e+00, 8.1893e-01,\n",
      "         1.2452e+00]])\n",
      "----------------\n",
      "tensor([[[[60.9421,  0.4833,  3.2728,  0.5359,  1.6362,  0.4947,  1.0152]]]],\n",
      "       device='cuda:0', grad_fn=<ToCopyBackward0>)\n",
      "tensor([[6.8484e+02, 4.9747e-01, 3.0953e+00, 7.8554e-01, 2.8880e+00, 9.0680e-01,\n",
      "         8.6166e-01]])\n",
      "----------------\n",
      "tensor([[[[61.1597,  0.4828,  3.2734,  0.5360,  1.6358,  0.4945,  1.0149]]]],\n",
      "       device='cuda:0', grad_fn=<ToCopyBackward0>)\n",
      "tensor([[9.0357e+02, 1.1868e-01, 6.6605e-01, 6.6592e-01, 1.6864e+00, 5.9138e-01,\n",
      "         7.8143e-01]])\n",
      "----------------\n",
      "tensor([[[[60.9774,  0.4831,  3.2735,  0.5359,  1.6366,  0.4942,  1.0155]]]],\n",
      "       device='cuda:0', grad_fn=<ToCopyBackward0>)\n",
      "tensor([[2.9155e+03, 9.9804e-01, 5.8320e+00, 1.0589e-01, 1.9055e+00, 1.1036e-01,\n",
      "         9.2829e-01]])\n",
      "----------------\n",
      "tensor([[[[60.9380,  0.4830,  3.2735,  0.5360,  1.6378,  0.4944,  1.0155]]]],\n",
      "       device='cuda:0', grad_fn=<ToCopyBackward0>)\n",
      "tensor([[6.6020e+02, 5.3560e-01, 4.5429e+00, 8.5843e-01, 1.8861e+00, 6.1730e-02,\n",
      "         4.3717e-01]])\n",
      "----------------\n",
      "tensor([[[[61.1358,  0.4830,  3.2738,  0.5360,  1.6360,  0.4946,  1.0159]]]],\n",
      "       device='cuda:0', grad_fn=<ToCopyBackward0>)\n",
      "tensor([[1.9559e+03, 2.7882e-01, 3.8239e-01, 8.5617e-01, 2.8186e+00, 9.3528e-01,\n",
      "         5.2195e-01]])\n",
      "----------------\n",
      "tensor([[[[61.0069,  0.4832,  3.2736,  0.5361,  1.6368,  0.4939,  1.0159]]]],\n",
      "       device='cuda:0', grad_fn=<ToCopyBackward0>)\n",
      "tensor([[9.2851e+02, 7.7534e-01, 3.6684e+00, 6.5426e-01, 9.4711e-01, 5.2166e-01,\n",
      "         8.0610e-01]])\n",
      "----------------\n",
      "tensor([[[[60.9977,  0.4833,  3.2741,  0.5360,  1.6355,  0.4943,  1.0162]]]],\n",
      "       device='cuda:0', grad_fn=<ToCopyBackward0>)\n",
      "tensor([[8.7589e+02, 7.5407e-01, 1.8401e+00, 4.9130e-01, 1.0996e+00, 2.0652e-01,\n",
      "         4.2020e-01]])\n",
      "----------------\n"
     ]
    }
   ],
   "source": [
    "from bliss.catalog import get_images_in_tiles\n",
    "\n",
    "full_true = tile_catalog.cpu().to_full_params()\n",
    "\n",
    "for i, (image, background) in enumerate(zip(images, backgrounds)):\n",
    "    img_bg = torch.cat((image, background), dim=0).unsqueeze((0)).to(dec.device)\n",
    "    gal_enc = galaxy.sample(img_bg, tile_catalog.locs[i], deterministic=True)\n",
    "    lens_enc = lens.sample(img_bg, tile_catalog.locs[i], deterministic=True)\n",
    "    \n",
    "    print(gal_enc)\n",
    "    print(full_true[\"galaxy_params\"][i])\n",
    "    print(\"----------------\")"
   ]
  },
  {
   "cell_type": "code",
   "execution_count": null,
   "id": "649892a4",
   "metadata": {},
   "outputs": [],
   "source": []
  }
 ],
 "metadata": {
  "interpreter": {
   "hash": "72adff0a5138394e7ab3380b7860edf983a5dd8cab864dd8cf44bf01f55aa221"
  },
  "kernelspec": {
   "display_name": "Python 3.8.10 ('bliss-vKFXZHWe-py3.8')",
   "language": "python",
   "name": "python3"
  },
  "language_info": {
   "codemirror_mode": {
    "name": "ipython",
    "version": 3
   },
   "file_extension": ".py",
   "mimetype": "text/x-python",
   "name": "python",
   "nbconvert_exporter": "python",
   "pygments_lexer": "ipython3",
   "version": "3.8.10"
  },
  "toc": {
   "base_numbering": 1,
   "nav_menu": {},
   "number_sections": true,
   "sideBar": true,
   "skip_h1_title": false,
   "title_cell": "Table of Contents",
   "title_sidebar": "Contents",
   "toc_cell": false,
   "toc_position": {
    "height": "calc(100% - 180px)",
    "left": "10px",
    "top": "150px",
    "width": "165px"
   },
   "toc_section_display": true,
   "toc_window_display": true
  }
 },
 "nbformat": 4,
 "nbformat_minor": 5
}
